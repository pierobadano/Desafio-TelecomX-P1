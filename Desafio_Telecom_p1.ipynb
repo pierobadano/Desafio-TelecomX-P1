{
  "nbformat": 4,
  "nbformat_minor": 0,
  "metadata": {
    "colab": {
      "provenance": [],
      "authorship_tag": "ABX9TyPiWA/nFOR7Bp3uqqNMzHWm",
      "include_colab_link": true
    },
    "kernelspec": {
      "name": "python3",
      "display_name": "Python 3"
    },
    "language_info": {
      "name": "python"
    }
  },
  "cells": [
    {
      "cell_type": "markdown",
      "metadata": {
        "id": "view-in-github",
        "colab_type": "text"
      },
      "source": [
        "<a href=\"https://colab.research.google.com/github/pierobadano/Desafio-TelecomX-P1/blob/main/Desafio_Telecom_p1.ipynb\" target=\"_parent\"><img src=\"https://colab.research.google.com/assets/colab-badge.svg\" alt=\"Open In Colab\"/></a>"
      ]
    },
    {
      "cell_type": "markdown",
      "source": [
        "# Desafio Telecom X"
      ],
      "metadata": {
        "id": "KcmtW3HAjoq7"
      }
    },
    {
      "cell_type": "markdown",
      "source": [
        "En el siguiente notebook iré realizando mi codigo resolviendo el \"Desafio Telecom X\", aplicando todos los conocimientos aprendidos durante mi formacion como analista de datos hasta el momento"
      ],
      "metadata": {
        "id": "XDL4ELBdjojz"
      }
    },
    {
      "cell_type": "markdown",
      "source": [
        "# Contexto"
      ],
      "metadata": {
        "id": "puHVOm5wkJct"
      }
    },
    {
      "cell_type": "markdown",
      "source": [
        "He sido contratado como asistente de análisis de datos en Telecom X y formare parte del proyecto \"Churn de Clientes\". La empresa enfrenta una alta tasa de cancelaciones y necesita comprender los factores que llevan a la pérdida de clientes.\n",
        "\n",
        "Mi desafío será recopilar, procesar y analizar los datos, utilizando Python y sus principales bibliotecas para extraer información valiosa. A partir de tu análisis, el equipo de Data Science podrá avanzar en modelos predictivos y desarrollar estrategias para reducir la evasión."
      ],
      "metadata": {
        "id": "7dbvJQuSkZz1"
      }
    },
    {
      "cell_type": "code",
      "execution_count": null,
      "metadata": {
        "id": "VBbvFokdjgyE"
      },
      "outputs": [],
      "source": []
    },
    {
      "cell_type": "markdown",
      "source": [
        "# Desarrollo"
      ],
      "metadata": {
        "id": "SqUU-cPtlZc8"
      }
    },
    {
      "cell_type": "code",
      "source": [],
      "metadata": {
        "id": "jucgXHFOlfrK"
      },
      "execution_count": null,
      "outputs": []
    },
    {
      "cell_type": "code",
      "source": [],
      "metadata": {
        "id": "3yRY2iX7lgQR"
      },
      "execution_count": null,
      "outputs": []
    },
    {
      "cell_type": "code",
      "source": [],
      "metadata": {
        "id": "nl6gsvZplgNl"
      },
      "execution_count": null,
      "outputs": []
    },
    {
      "cell_type": "code",
      "source": [],
      "metadata": {
        "id": "mTMXoQX9lgLD"
      },
      "execution_count": null,
      "outputs": []
    },
    {
      "cell_type": "code",
      "source": [],
      "metadata": {
        "id": "D9tIv4A5lgII"
      },
      "execution_count": null,
      "outputs": []
    },
    {
      "cell_type": "code",
      "source": [],
      "metadata": {
        "id": "p7lNtfinlgFX"
      },
      "execution_count": null,
      "outputs": []
    }
  ]
}